{
 "cells": [
  {
   "attachments": {},
   "cell_type": "markdown",
   "metadata": {},
   "source": [
    "**Métodos de *strings***\n",
    "\n",
    "Dado el siguiente *string* \n",
    "\n",
    "```python\n",
    "\n",
    "string = \"\"\"Hoy estamos en una clase de repaso,\n",
    "el objetivo es intentar solucionar todas vuestras dudas, \n",
    "preguntad todo lo que queráis! \n",
    "\"\"\"\n",
    "```\n",
    "\n",
    "\n",
    "Contesta a las siguientes preguntas: \n",
    "\n",
    "1️⃣ Crea dos variables nuevas: \n",
    "    - Una con el *string* en mayúsculas\n",
    "    - Otra con las letras en minúsculas\n",
    "\n",
    "2️⃣ Pon todas las primeras letras del *string* en mayúscula\n",
    "\n",
    "3️⃣ Separa el *string*  por los espacios y almacena el resultado en una lista llamanda `texto_lista`\n",
    "\n",
    "4️⃣ De la lista obtenida en el ejercicio anterior, selecciona solo los 5 primero elementos y almacena los resultados en una variable que se llame `texto_lista_corta` \n",
    "\n",
    "5️⃣ De la lista obtenida en el ejercicio 5. Vuelve a convertirlo en *string* \n",
    "\n",
    "6️⃣ Con el *string* obtenido en el paso anterior: \n",
    "\n",
    "    - Esta la palabra \"el\" en el *string* \n",
    "\n",
    "    - Reemplaza \"Hoy\" por nada\n",
    "\n",
    "    - El ejercicio anterior nos ha dejado espacios al inicio del string, eliminalos\n"
   ]
  },
  {
   "cell_type": "code",
   "execution_count": 29,
   "metadata": {},
   "outputs": [
    {
     "name": "stdout",
     "output_type": "stream",
     "text": [
      "HOY ESTAMOS EN UNA CLASE DE REPASO,\n",
      "EL OBJETIVO ES INTENTAR SOLUCIONAR TODAS VUESTRAS DUDAS, \n",
      "PREGUNTAD TODO LO QUE QUERÁIS! \n",
      "\n",
      "hoy estamos en una clase de repaso,\n",
      "el objetivo es intentar solucionar todas vuestras dudas, \n",
      "preguntad todo lo que queráis! \n",
      "\n"
     ]
    }
   ],
   "source": [
    "# Metodos de strings\n",
    "\n",
    "string_evaluacion = \"\"\"Hoy estamos en una clase de repaso,\n",
    "el objetivo es intentar solucionar todas vuestras dudas, \n",
    "preguntad todo lo que queráis! \n",
    "\"\"\"\n",
    "\n",
    "# 1 Crea dos variables nuevas: \n",
    "#    - Una con el *string* en mayúsculas\n",
    "#    - Otra con las letras en minúsculas\n",
    "\n",
    "string_upper = string_evaluacion.upper()\n",
    "string_lower = string_evaluacion.lower()\n",
    "\n",
    "print(string_upper)\n",
    "print(string_lower)"
   ]
  },
  {
   "cell_type": "code",
   "execution_count": 30,
   "metadata": {},
   "outputs": [
    {
     "name": "stdout",
     "output_type": "stream",
     "text": [
      "Hoy Estamos En Una Clase De Repaso,\n",
      "El Objetivo Es Intentar Solucionar Todas Vuestras Dudas, \n",
      "Preguntad Todo Lo Que Queráis! \n",
      "\n"
     ]
    }
   ],
   "source": [
    "# 2 Pon todas las primeras letras del *string* en mayúscula\n",
    "string_title = string_evaluacion.title()\n",
    "\n",
    "print(string_title)"
   ]
  },
  {
   "cell_type": "code",
   "execution_count": 31,
   "metadata": {},
   "outputs": [
    {
     "name": "stdout",
     "output_type": "stream",
     "text": [
      "['Hoy', 'estamos', 'en', 'una', 'clase', 'de', 'repaso,', 'el', 'objetivo', 'es', 'intentar', 'solucionar', 'todas', 'vuestras', 'dudas,', 'preguntad', 'todo', 'lo', 'que', 'queráis!']\n"
     ]
    }
   ],
   "source": [
    "# 3 Separa el *string*  por los espacios y almacena el resultado en una lista llamanda `texto_lista`\n",
    "\n",
    "texto_lista = string_evaluacion.split()\n",
    "print(texto_lista)"
   ]
  },
  {
   "cell_type": "code",
   "execution_count": 32,
   "metadata": {},
   "outputs": [
    {
     "name": "stdout",
     "output_type": "stream",
     "text": [
      "['Hoy', 'estamos', 'en', 'una', 'clase']\n"
     ]
    }
   ],
   "source": [
    "# 4 De la lista obtenida en el ejercicio anterior, selecciona solo los 5 primero elementos \n",
    "# y almacena los resultados en una variable que se llame `texto_lista_corta`\n",
    "\n",
    "texto_lista_corta = texto_lista[0:5]\n",
    "print(texto_lista_corta)"
   ]
  },
  {
   "cell_type": "code",
   "execution_count": 33,
   "metadata": {},
   "outputs": [
    {
     "name": "stdout",
     "output_type": "stream",
     "text": [
      "Hoy estamos en una clase\n"
     ]
    },
    {
     "data": {
      "text/plain": [
       "str"
      ]
     },
     "execution_count": 33,
     "metadata": {},
     "output_type": "execute_result"
    }
   ],
   "source": [
    "# 5 De la lista obtenida en el ejercicio 5. Vuelve a convertirlo en *string* \n",
    "\n",
    "texto_lista_corta = \" \".join(texto_lista_corta)\n",
    "print(texto_lista_corta)\n",
    "type(texto_lista_corta)"
   ]
  },
  {
   "cell_type": "code",
   "execution_count": 34,
   "metadata": {},
   "outputs": [
    {
     "name": "stdout",
     "output_type": "stream",
     "text": [
      "La palabra 'el' no está en el string\n",
      " estamos en una clase\n",
      "estamos en una clase\n"
     ]
    }
   ],
   "source": [
    "# 6 Con el *string* obtenido en el paso anterior: \n",
    "#    - Esta la palabra \"el\" en el *string* \n",
    "\n",
    "if texto_lista_corta.find(\"el\") == -1:\n",
    "    print(\"La palabra 'el' no está en el string\")\n",
    "else:\n",
    "    print(\"La palabra 'el' si que está en el string\")\n",
    "\n",
    "#    - Reemplaza \"Hoy\" por nada\n",
    "\n",
    "texto_lista_corta = texto_lista_corta.replace(\"Hoy\", \"\")\n",
    "print(texto_lista_corta)\n",
    "\n",
    "#    - El ejercicio anterior nos ha dejado espacios al inicio del string, eliminalos\n",
    "\n",
    "texto_lista_corta = texto_lista_corta.strip()\n",
    "print(texto_lista_corta)"
   ]
  },
  {
   "attachments": {},
   "cell_type": "markdown",
   "metadata": {},
   "source": [
    "**Encuentra el número que no está en la lista**\n",
    "\n",
    "Tenemos una lista desordenada con números positivos de 1 a n. Siempre faltará un sólo número de esta lista aleatoria, ¿cómo identifico cuál falta? Cread un programa para que este código devuelva los resultados deseados:\n",
    "\n",
    "```python\n",
    "lista1 = [3,7,1,2,8,4,5] # nos tiene que devolver 6\n",
    "lista2 = [4,6,1,3,5] #  nos tiene que devolver 2\n",
    "lista3 = [34,35,36,38,39,40] # nos tiene que devolver 37\n",
    "```\n",
    "\n",
    "BONUS: Introduce los resultados obtenidos en un diccionario, indicando que numero falta para cada una de las listas:\n",
    "```python\n",
    "# por ejemplo\n",
    "\n",
    "resultados = {'falta_lista_1': valor_numerico_1, 'falta_lista_2': valor_numerico_2, 'falta_lista_3': valor_numerico_3}\n",
    "```"
   ]
  },
  {
   "cell_type": "code",
   "execution_count": 35,
   "metadata": {},
   "outputs": [],
   "source": [
    "lista1 = [3,7,1,2,8,4,5]\n",
    "lista2 = [4,6,1,3,5] \n",
    "lista3 = [34,35,36,38,39,40]\n",
    "\n",
    "lista_123 = [lista1, lista2, lista3]"
   ]
  },
  {
   "cell_type": "code",
   "execution_count": 36,
   "metadata": {},
   "outputs": [
    {
     "name": "stdout",
     "output_type": "stream",
     "text": [
      "falta el 6 en esta lista: [3, 7, 1, 2, 8, 4, 5]\n",
      "falta el 2 en esta lista: [4, 6, 1, 3, 5]\n",
      "falta el 37 en esta lista: [34, 35, 36, 38, 39, 40]\n"
     ]
    }
   ],
   "source": [
    "for l in lista_123:\n",
    "    x = max(l) + 1\n",
    "    y = min(l)\n",
    "    for i in range(y,x):\n",
    "        if i not in l:\n",
    "            print(f\"falta el {i} en esta lista: {l}\")"
   ]
  },
  {
   "cell_type": "code",
   "execution_count": 37,
   "metadata": {},
   "outputs": [
    {
     "name": "stdout",
     "output_type": "stream",
     "text": [
      "{'falta_lista_1': 6, 'falta_lista_2': 2, 'falta_lista_3': 37}\n"
     ]
    }
   ],
   "source": [
    "diccionario = {}\n",
    "for l in lista_123:\n",
    "    x = max(l) + 1\n",
    "    y = min(l)\n",
    "    for i in range(y,x):\n",
    "        if i not in l:\n",
    "            diccionario[\"falta_lista_\"+ str(lista_123.index(l)+1)] = i\n",
    "            \n",
    "print(diccionario)               "
   ]
  },
  {
   "cell_type": "markdown",
   "metadata": {},
   "source": [
    "**Mover los ceros a la izquierda**\n",
    "\n",
    "Nos dan un *string* con números aleatorios. Algunos de ellos son 0. Encuentra todos los ceros y ponlos al principio de la lista, manteniendo el orden de los demás números.\n",
    "\n",
    "Ejemplo:\n",
    "\n",
    "```python\n",
    "A = [1,10,88,0,59,63,0,20,0]\n",
    "\n",
    "# tiene que devolver\n",
    "[0, 0, 0, 1, 10, 88, 59, 63, 20]\n",
    "```"
   ]
  },
  {
   "cell_type": "code",
   "execution_count": 38,
   "metadata": {},
   "outputs": [
    {
     "name": "stdout",
     "output_type": "stream",
     "text": [
      "[0, 0, 0, 1, 10, 88, 59, 63, 20]\n"
     ]
    }
   ],
   "source": [
    "A = [1,10,88,0,59,63,0,20,0]\n",
    "B = []\n",
    "\n",
    "for i in A:\n",
    "    if i == 0:\n",
    "        A.remove(i)\n",
    "        B.append(i)\n",
    "   \n",
    "A = B + A\n",
    "print(A)"
   ]
  },
  {
   "cell_type": "markdown",
   "metadata": {},
   "source": [
    "**Invertir palabras de una frase**\n",
    "\n",
    "Nos dan una frase en que quieren que las letras de cada palabra acaben teniendo el orden invertido, manteniendo el orden de las palabras.\n",
    "\n",
    "```python\n",
    "frase = 'Hola Ada'\n",
    "print(frase) # nos daría 'aloH adA'\n",
    "```"
   ]
  },
  {
   "cell_type": "code",
   "execution_count": 39,
   "metadata": {},
   "outputs": [
    {
     "name": "stdout",
     "output_type": "stream",
     "text": [
      "adA aloH\n"
     ]
    },
    {
     "data": {
      "text/plain": [
       "str"
      ]
     },
     "execution_count": 39,
     "metadata": {},
     "output_type": "execute_result"
    }
   ],
   "source": [
    "frase = \"Hola Ada\"\n",
    "frase_lista = list(frase)\n",
    "\n",
    "frase_lista.reverse()\n",
    "\n",
    "frase = \"\".join(frase_lista)\n",
    "\n",
    "print(frase)"
   ]
  },
  {
   "cell_type": "code",
   "execution_count": 41,
   "metadata": {},
   "outputs": [
    {
     "name": "stdout",
     "output_type": "stream",
     "text": [
      "adA aloH\n"
     ]
    }
   ],
   "source": [
    "frase = \"Hola Ada\"\n",
    "i = len(frase)\n",
    "frase_reves = []\n",
    "\n",
    "for letra in frase:\n",
    "    i -= 1\n",
    "    frase_reves.append(frase[i])\n",
    "    \n",
    "frase = \"\".join(frase_reves)\n",
    "print(frase)"
   ]
  },
  {
   "attachments": {},
   "cell_type": "markdown",
   "metadata": {},
   "source": [
    "###  ¿Es un DNI valido?\n",
    "\n",
    "Los DNI españoles pueden ser:\n",
    "\n",
    "- NIF (Numero de Identificación Fiscal) - 8 numeros y una letra, o\n",
    "- NIE (Numero de Identificación de Extranjeros) - 1 letra, 7 numeros y 1 letra."
   ]
  },
  {
   "cell_type": "code",
   "execution_count": 25,
   "metadata": {},
   "outputs": [],
   "source": [
    "lista_dni = [\"X-1234567-Z\", \"X-1234567\", \"12345678-M\", \"1234567-T\", \"12345677\"] \n",
    "ABC = \"ABCDEFGHIJKLMNOPQRSTUVWXYZ\"\n",
    "numeros = \"123456789\""
   ]
  },
  {
   "cell_type": "code",
   "execution_count": 42,
   "metadata": {},
   "outputs": [
    {
     "name": "stdout",
     "output_type": "stream",
     "text": [
      "X-1234567-Z es un NIE valido\n",
      "X-1234567 no es un NIE o DNI válido\n",
      "12345678-M es un DNI válido\n",
      "1234567-T no es un NIE o DNI válido\n",
      "12345677 no es un NIE o DNI válido\n"
     ]
    }
   ],
   "source": [
    "for l in lista_dni:\n",
    "    if len(l) == 11 and (l[0] in ABC and l[-1] in ABC):\n",
    "        # test for NIE\n",
    "        if l[1] == \"-\" and l[2] in numeros and l[3] in numeros and l[4] in numeros and l[5] in numeros and l[6] in numeros and l[7] in numeros and l[8] in numeros and l[9] == \"-\":\n",
    "                print(f\"{l} es un NIE valido\")\n",
    "        # string contiene caracter no aceptado o en el orden no aceptado   \n",
    "        else:  \n",
    "            print(f\"{l} no es un NIE o NIF válido\")      \n",
    "    # test for NIF\n",
    "    elif len(l) == 10 and l[-1] in ABC and l[0] in numeros and l[1] in numeros and l[2] in numeros and l[3] in numeros and l[4] in numeros and l[5] in numeros and l[6] in numeros and l[7] in numeros and l[8] == \"-\":\n",
    "        print(f\"{l} es un NIF válido\")\n",
    "    # string contiene caracter no aceptado o en el orden no aceptado\n",
    "    else:\n",
    "        print(f\"{l} no es un NIE o NIF válido\")\n"
   ]
  },
  {
   "attachments": {},
   "cell_type": "markdown",
   "metadata": {},
   "source": [
    "**BONUS: Encuentra los k números más cerca a X**\n",
    "\n",
    "\n",
    "Haz una programa que compare los contenidos de una lista a un número dado X. Queremos que nos devuelva los k números que son más parecidos al número dado.\n",
    "\n",
    "Ejemplo:\n",
    "```python\n",
    "L = [4, 19, -5, 100, 53, 43, 74, -83, 13.5, 26]\n",
    "# Dados los siguientes valores \n",
    "x =30\n",
    "k = 3 # el número de números que tendremos que buscar en la lista que se parecen a 30 \n",
    "# El output debería ser igual a [26, 19, 43]\n",
    "```"
   ]
  },
  {
   "cell_type": "code",
   "execution_count": 45,
   "metadata": {},
   "outputs": [
    {
     "name": "stdout",
     "output_type": "stream",
     "text": [
      "[26, 19, 43]\n"
     ]
    }
   ],
   "source": [
    "L = [4, 19, -5, 100, 53, 43, 74, -83, 13.5, 26]\n",
    "x = 30\n",
    "k = 3\n",
    "resto = []\n",
    "mas_parecidos = []\n",
    "\n",
    "# he restado cada valor por x, o al reves, dependiendo de si era un numero con mayor o menor valor\n",
    "for i in L:\n",
    "    if i >= x:\n",
    "        resto.append(i - x)\n",
    "    else:\n",
    "        resto.append(x - i)\n",
    "\n",
    "# he zipeado estos valores con la lista original para poder ordenarlos por el valor del resto\n",
    "\n",
    "list_zip_resto = list(zip(resto, L))\n",
    "\n",
    "list_zip_resto.sort()\n",
    "\n",
    "# he hecho una lista de los tres numeros con los restos mas pequenos, o es decir, los mas parecidos a 30\n",
    "for i in list_zip_resto[0:3]:\n",
    "    mas_parecidos.append(i[1])\n",
    "\n",
    "print(mas_parecidos)\n",
    "        "
   ]
  }
 ],
 "metadata": {
  "kernelspec": {
   "display_name": "Python 3",
   "language": "python",
   "name": "python3"
  },
  "language_info": {
   "codemirror_mode": {
    "name": "ipython",
    "version": 3
   },
   "file_extension": ".py",
   "mimetype": "text/x-python",
   "name": "python",
   "nbconvert_exporter": "python",
   "pygments_lexer": "ipython3",
   "version": "3.9.7"
  },
  "orig_nbformat": 4,
  "vscode": {
   "interpreter": {
    "hash": "31f2aee4e71d21fbe5cf8b01ff0e069b9275f58929596ceb00d14d90e3e16cd6"
   }
  }
 },
 "nbformat": 4,
 "nbformat_minor": 2
}
